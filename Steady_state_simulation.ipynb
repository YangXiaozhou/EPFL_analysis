{
 "cells": [
  {
   "cell_type": "code",
   "execution_count": 2,
   "metadata": {},
   "outputs": [],
   "source": [
    "import pandapower as pp\n",
    "import pandapower.networks\n",
    "import numpy as np\n",
    "import pandas as pd\n",
    "import matplotlib.pyplot as plt\n",
    "import seaborn as sns\n",
    "import math\n",
    "import plotly\n",
    "import plotly.plotly as py\n",
    "import plotly.graph_objs as go\n",
    "%matplotlib inline"
   ]
  },
  {
   "cell_type": "code",
   "execution_count": 506,
   "metadata": {},
   "outputs": [
    {
     "data": {
      "text/plain": [
       "This pandapower network includes the following parameter tables:\n",
       "   - bus (39 elements)\n",
       "   - load (21 elements)\n",
       "   - polynomial_cost (10 elements)\n",
       "   - gen (9 elements)\n",
       "   - line (34 elements)\n",
       "   - trafo (12 elements)\n",
       "   - bus_geodata (39 elements)\n",
       "   - ext_grid (1 element)\n",
       " and the following results tables:\n",
       "   - res_line (34 elements)\n",
       "   - res_trafo (12 elements)\n",
       "   - res_bus (39 elements)\n",
       "   - res_gen (9 elements)\n",
       "   - res_ext_grid (1 element)\n",
       "   - res_load (21 elements)"
      ]
     },
     "execution_count": 506,
     "metadata": {},
     "output_type": "execute_result"
    }
   ],
   "source": [
    "# Initialize IEEE test network\n",
    "net_39 = pandapower.networks.case39()\n",
    "net_39"
   ]
  },
  {
   "cell_type": "code",
   "execution_count": 507,
   "metadata": {},
   "outputs": [],
   "source": [
    "def rename(network):\n",
    "    line_name = []\n",
    "    bus_name = []\n",
    "    for i in (network.line.index.values+1):\n",
    "        line_name.append('line_'+str(i))\n",
    "    \n",
    "    for j in network.bus.name.values:\n",
    "        bus_name.append('bus_'+str(j))\n",
    "    \n",
    "    # Rename lines: i.e. 'line_1'\n",
    "    network.line.name=line_name\n",
    "    \n",
    "    # Rename bus: i.e. 'bus_1'\n",
    "    network.bus.name=bus_name\n",
    "    pass"
   ]
  },
  {
   "cell_type": "code",
   "execution_count": 508,
   "metadata": {},
   "outputs": [
    {
     "data": {
      "text/html": [
       "<div>\n",
       "<style scoped>\n",
       "    .dataframe tbody tr th:only-of-type {\n",
       "        vertical-align: middle;\n",
       "    }\n",
       "\n",
       "    .dataframe tbody tr th {\n",
       "        vertical-align: top;\n",
       "    }\n",
       "\n",
       "    .dataframe thead th {\n",
       "        text-align: right;\n",
       "    }\n",
       "</style>\n",
       "<table border=\"1\" class=\"dataframe\">\n",
       "  <thead>\n",
       "    <tr style=\"text-align: right;\">\n",
       "      <th></th>\n",
       "      <th>name</th>\n",
       "      <th>std_type</th>\n",
       "      <th>from_bus</th>\n",
       "      <th>to_bus</th>\n",
       "      <th>length_km</th>\n",
       "      <th>r_ohm_per_km</th>\n",
       "      <th>x_ohm_per_km</th>\n",
       "      <th>c_nf_per_km</th>\n",
       "      <th>max_i_ka</th>\n",
       "      <th>df</th>\n",
       "      <th>parallel</th>\n",
       "      <th>type</th>\n",
       "      <th>in_service</th>\n",
       "    </tr>\n",
       "  </thead>\n",
       "  <tbody>\n",
       "    <tr>\n",
       "      <th>0</th>\n",
       "      <td>line_1</td>\n",
       "      <td>None</td>\n",
       "      <td>0</td>\n",
       "      <td>1</td>\n",
       "      <td>1.0</td>\n",
       "      <td>4.165875</td>\n",
       "      <td>48.919275</td>\n",
       "      <td>1557.117675</td>\n",
       "      <td>1.004087</td>\n",
       "      <td>1.0</td>\n",
       "      <td>1</td>\n",
       "      <td>ol</td>\n",
       "      <td>True</td>\n",
       "    </tr>\n",
       "    <tr>\n",
       "      <th>1</th>\n",
       "      <td>line_2</td>\n",
       "      <td>None</td>\n",
       "      <td>0</td>\n",
       "      <td>38</td>\n",
       "      <td>1.0</td>\n",
       "      <td>1.190250</td>\n",
       "      <td>29.756250</td>\n",
       "      <td>1671.444477</td>\n",
       "      <td>1.673479</td>\n",
       "      <td>1.0</td>\n",
       "      <td>1</td>\n",
       "      <td>ol</td>\n",
       "      <td>True</td>\n",
       "    </tr>\n",
       "    <tr>\n",
       "      <th>2</th>\n",
       "      <td>line_3</td>\n",
       "      <td>None</td>\n",
       "      <td>1</td>\n",
       "      <td>2</td>\n",
       "      <td>1.0</td>\n",
       "      <td>1.547325</td>\n",
       "      <td>17.972775</td>\n",
       "      <td>573.194026</td>\n",
       "      <td>0.836740</td>\n",
       "      <td>1.0</td>\n",
       "      <td>1</td>\n",
       "      <td>ol</td>\n",
       "      <td>True</td>\n",
       "    </tr>\n",
       "    <tr>\n",
       "      <th>3</th>\n",
       "      <td>line_4</td>\n",
       "      <td>None</td>\n",
       "      <td>1</td>\n",
       "      <td>24</td>\n",
       "      <td>1.0</td>\n",
       "      <td>8.331750</td>\n",
       "      <td>10.236150</td>\n",
       "      <td>325.374525</td>\n",
       "      <td>0.836740</td>\n",
       "      <td>1.0</td>\n",
       "      <td>1</td>\n",
       "      <td>ol</td>\n",
       "      <td>True</td>\n",
       "    </tr>\n",
       "    <tr>\n",
       "      <th>4</th>\n",
       "      <td>line_5</td>\n",
       "      <td>None</td>\n",
       "      <td>2</td>\n",
       "      <td>3</td>\n",
       "      <td>1.0</td>\n",
       "      <td>1.547325</td>\n",
       "      <td>25.352325</td>\n",
       "      <td>493.410410</td>\n",
       "      <td>0.836740</td>\n",
       "      <td>1.0</td>\n",
       "      <td>1</td>\n",
       "      <td>ol</td>\n",
       "      <td>True</td>\n",
       "    </tr>\n",
       "  </tbody>\n",
       "</table>\n",
       "</div>"
      ],
      "text/plain": [
       "     name std_type  from_bus  to_bus  length_km  r_ohm_per_km  x_ohm_per_km  \\\n",
       "0  line_1     None         0       1        1.0      4.165875     48.919275   \n",
       "1  line_2     None         0      38        1.0      1.190250     29.756250   \n",
       "2  line_3     None         1       2        1.0      1.547325     17.972775   \n",
       "3  line_4     None         1      24        1.0      8.331750     10.236150   \n",
       "4  line_5     None         2       3        1.0      1.547325     25.352325   \n",
       "\n",
       "   c_nf_per_km  max_i_ka   df  parallel type  in_service  \n",
       "0  1557.117675  1.004087  1.0         1   ol        True  \n",
       "1  1671.444477  1.673479  1.0         1   ol        True  \n",
       "2   573.194026  0.836740  1.0         1   ol        True  \n",
       "3   325.374525  0.836740  1.0         1   ol        True  \n",
       "4   493.410410  0.836740  1.0         1   ol        True  "
      ]
     },
     "execution_count": 508,
     "metadata": {},
     "output_type": "execute_result"
    }
   ],
   "source": [
    "rename(net_39)\n",
    "net_39.line.head()"
   ]
  },
  {
   "cell_type": "code",
   "execution_count": 269,
   "metadata": {},
   "outputs": [
    {
     "data": {
      "text/html": [
       "<div>\n",
       "<style scoped>\n",
       "    .dataframe tbody tr th:only-of-type {\n",
       "        vertical-align: middle;\n",
       "    }\n",
       "\n",
       "    .dataframe tbody tr th {\n",
       "        vertical-align: top;\n",
       "    }\n",
       "\n",
       "    .dataframe thead th {\n",
       "        text-align: right;\n",
       "    }\n",
       "</style>\n",
       "<table border=\"1\" class=\"dataframe\">\n",
       "  <thead>\n",
       "    <tr style=\"text-align: right;\">\n",
       "      <th></th>\n",
       "      <th>bus</th>\n",
       "      <th>controllable</th>\n",
       "      <th>in_service</th>\n",
       "      <th>max_p_kw</th>\n",
       "      <th>max_q_kvar</th>\n",
       "      <th>min_p_kw</th>\n",
       "      <th>min_q_kvar</th>\n",
       "      <th>name</th>\n",
       "      <th>p_kw</th>\n",
       "      <th>scaling</th>\n",
       "      <th>sn_kva</th>\n",
       "      <th>type</th>\n",
       "      <th>vm_pu</th>\n",
       "    </tr>\n",
       "  </thead>\n",
       "  <tbody>\n",
       "    <tr>\n",
       "      <th>0</th>\n",
       "      <td>29</td>\n",
       "      <td>True</td>\n",
       "      <td>True</td>\n",
       "      <td>-0.0</td>\n",
       "      <td>400000.0</td>\n",
       "      <td>-1040000.0</td>\n",
       "      <td>140000.0</td>\n",
       "      <td>None</td>\n",
       "      <td>-250000.0</td>\n",
       "      <td>1.0</td>\n",
       "      <td>NaN</td>\n",
       "      <td>None</td>\n",
       "      <td>1.0499</td>\n",
       "    </tr>\n",
       "    <tr>\n",
       "      <th>1</th>\n",
       "      <td>31</td>\n",
       "      <td>True</td>\n",
       "      <td>True</td>\n",
       "      <td>-0.0</td>\n",
       "      <td>300000.0</td>\n",
       "      <td>-725000.0</td>\n",
       "      <td>150000.0</td>\n",
       "      <td>None</td>\n",
       "      <td>-650000.0</td>\n",
       "      <td>1.0</td>\n",
       "      <td>NaN</td>\n",
       "      <td>None</td>\n",
       "      <td>0.9841</td>\n",
       "    </tr>\n",
       "    <tr>\n",
       "      <th>2</th>\n",
       "      <td>32</td>\n",
       "      <td>True</td>\n",
       "      <td>True</td>\n",
       "      <td>-0.0</td>\n",
       "      <td>250000.0</td>\n",
       "      <td>-652000.0</td>\n",
       "      <td>0.0</td>\n",
       "      <td>None</td>\n",
       "      <td>-632000.0</td>\n",
       "      <td>1.0</td>\n",
       "      <td>NaN</td>\n",
       "      <td>None</td>\n",
       "      <td>0.9972</td>\n",
       "    </tr>\n",
       "    <tr>\n",
       "      <th>3</th>\n",
       "      <td>33</td>\n",
       "      <td>True</td>\n",
       "      <td>True</td>\n",
       "      <td>-0.0</td>\n",
       "      <td>167000.0</td>\n",
       "      <td>-508000.0</td>\n",
       "      <td>0.0</td>\n",
       "      <td>None</td>\n",
       "      <td>-508000.0</td>\n",
       "      <td>1.0</td>\n",
       "      <td>NaN</td>\n",
       "      <td>None</td>\n",
       "      <td>1.0123</td>\n",
       "    </tr>\n",
       "    <tr>\n",
       "      <th>4</th>\n",
       "      <td>34</td>\n",
       "      <td>True</td>\n",
       "      <td>True</td>\n",
       "      <td>-0.0</td>\n",
       "      <td>300000.0</td>\n",
       "      <td>-687000.0</td>\n",
       "      <td>-100000.0</td>\n",
       "      <td>None</td>\n",
       "      <td>-650000.0</td>\n",
       "      <td>1.0</td>\n",
       "      <td>NaN</td>\n",
       "      <td>None</td>\n",
       "      <td>1.0494</td>\n",
       "    </tr>\n",
       "    <tr>\n",
       "      <th>5</th>\n",
       "      <td>35</td>\n",
       "      <td>True</td>\n",
       "      <td>True</td>\n",
       "      <td>-0.0</td>\n",
       "      <td>240000.0</td>\n",
       "      <td>-580000.0</td>\n",
       "      <td>0.0</td>\n",
       "      <td>None</td>\n",
       "      <td>-560000.0</td>\n",
       "      <td>1.0</td>\n",
       "      <td>NaN</td>\n",
       "      <td>None</td>\n",
       "      <td>1.0636</td>\n",
       "    </tr>\n",
       "    <tr>\n",
       "      <th>6</th>\n",
       "      <td>36</td>\n",
       "      <td>True</td>\n",
       "      <td>True</td>\n",
       "      <td>-0.0</td>\n",
       "      <td>250000.0</td>\n",
       "      <td>-564000.0</td>\n",
       "      <td>0.0</td>\n",
       "      <td>None</td>\n",
       "      <td>-540000.0</td>\n",
       "      <td>1.0</td>\n",
       "      <td>NaN</td>\n",
       "      <td>None</td>\n",
       "      <td>1.0275</td>\n",
       "    </tr>\n",
       "    <tr>\n",
       "      <th>7</th>\n",
       "      <td>37</td>\n",
       "      <td>True</td>\n",
       "      <td>True</td>\n",
       "      <td>-0.0</td>\n",
       "      <td>300000.0</td>\n",
       "      <td>-865000.0</td>\n",
       "      <td>-150000.0</td>\n",
       "      <td>None</td>\n",
       "      <td>-830000.0</td>\n",
       "      <td>1.0</td>\n",
       "      <td>NaN</td>\n",
       "      <td>None</td>\n",
       "      <td>1.0265</td>\n",
       "    </tr>\n",
       "    <tr>\n",
       "      <th>8</th>\n",
       "      <td>38</td>\n",
       "      <td>True</td>\n",
       "      <td>True</td>\n",
       "      <td>-0.0</td>\n",
       "      <td>300000.0</td>\n",
       "      <td>-1100000.0</td>\n",
       "      <td>-100000.0</td>\n",
       "      <td>None</td>\n",
       "      <td>-1000000.0</td>\n",
       "      <td>1.0</td>\n",
       "      <td>NaN</td>\n",
       "      <td>None</td>\n",
       "      <td>1.0300</td>\n",
       "    </tr>\n",
       "  </tbody>\n",
       "</table>\n",
       "</div>"
      ],
      "text/plain": [
       "   bus  controllable  in_service  max_p_kw  max_q_kvar   min_p_kw  min_q_kvar  \\\n",
       "0   29          True        True      -0.0    400000.0 -1040000.0    140000.0   \n",
       "1   31          True        True      -0.0    300000.0  -725000.0    150000.0   \n",
       "2   32          True        True      -0.0    250000.0  -652000.0         0.0   \n",
       "3   33          True        True      -0.0    167000.0  -508000.0         0.0   \n",
       "4   34          True        True      -0.0    300000.0  -687000.0   -100000.0   \n",
       "5   35          True        True      -0.0    240000.0  -580000.0         0.0   \n",
       "6   36          True        True      -0.0    250000.0  -564000.0         0.0   \n",
       "7   37          True        True      -0.0    300000.0  -865000.0   -150000.0   \n",
       "8   38          True        True      -0.0    300000.0 -1100000.0   -100000.0   \n",
       "\n",
       "   name       p_kw  scaling  sn_kva  type   vm_pu  \n",
       "0  None  -250000.0      1.0     NaN  None  1.0499  \n",
       "1  None  -650000.0      1.0     NaN  None  0.9841  \n",
       "2  None  -632000.0      1.0     NaN  None  0.9972  \n",
       "3  None  -508000.0      1.0     NaN  None  1.0123  \n",
       "4  None  -650000.0      1.0     NaN  None  1.0494  \n",
       "5  None  -560000.0      1.0     NaN  None  1.0636  \n",
       "6  None  -540000.0      1.0     NaN  None  1.0275  \n",
       "7  None  -830000.0      1.0     NaN  None  1.0265  \n",
       "8  None -1000000.0      1.0     NaN  None  1.0300  "
      ]
     },
     "execution_count": 269,
     "metadata": {},
     "output_type": "execute_result"
    }
   ],
   "source": [
    "net_39.gen"
   ]
  },
  {
   "cell_type": "code",
   "execution_count": 270,
   "metadata": {},
   "outputs": [
    {
     "data": {
      "text/html": [
       "<div>\n",
       "<style scoped>\n",
       "    .dataframe tbody tr th:only-of-type {\n",
       "        vertical-align: middle;\n",
       "    }\n",
       "\n",
       "    .dataframe tbody tr th {\n",
       "        vertical-align: top;\n",
       "    }\n",
       "\n",
       "    .dataframe thead th {\n",
       "        text-align: right;\n",
       "    }\n",
       "</style>\n",
       "<table border=\"1\" class=\"dataframe\">\n",
       "  <thead>\n",
       "    <tr style=\"text-align: right;\">\n",
       "      <th></th>\n",
       "      <th>in_service</th>\n",
       "      <th>max_vm_pu</th>\n",
       "      <th>min_vm_pu</th>\n",
       "      <th>name</th>\n",
       "      <th>type</th>\n",
       "      <th>vn_kv</th>\n",
       "      <th>zone</th>\n",
       "    </tr>\n",
       "  </thead>\n",
       "  <tbody>\n",
       "    <tr>\n",
       "      <th>0</th>\n",
       "      <td>True</td>\n",
       "      <td>1.06</td>\n",
       "      <td>0.94</td>\n",
       "      <td>bus_1</td>\n",
       "      <td>b</td>\n",
       "      <td>345.0</td>\n",
       "      <td>2</td>\n",
       "    </tr>\n",
       "    <tr>\n",
       "      <th>1</th>\n",
       "      <td>True</td>\n",
       "      <td>1.06</td>\n",
       "      <td>0.94</td>\n",
       "      <td>bus_2</td>\n",
       "      <td>b</td>\n",
       "      <td>345.0</td>\n",
       "      <td>2</td>\n",
       "    </tr>\n",
       "    <tr>\n",
       "      <th>2</th>\n",
       "      <td>True</td>\n",
       "      <td>1.06</td>\n",
       "      <td>0.94</td>\n",
       "      <td>bus_3</td>\n",
       "      <td>b</td>\n",
       "      <td>345.0</td>\n",
       "      <td>2</td>\n",
       "    </tr>\n",
       "    <tr>\n",
       "      <th>3</th>\n",
       "      <td>True</td>\n",
       "      <td>1.06</td>\n",
       "      <td>0.94</td>\n",
       "      <td>bus_4</td>\n",
       "      <td>b</td>\n",
       "      <td>345.0</td>\n",
       "      <td>1</td>\n",
       "    </tr>\n",
       "    <tr>\n",
       "      <th>4</th>\n",
       "      <td>True</td>\n",
       "      <td>1.06</td>\n",
       "      <td>0.94</td>\n",
       "      <td>bus_5</td>\n",
       "      <td>b</td>\n",
       "      <td>345.0</td>\n",
       "      <td>1</td>\n",
       "    </tr>\n",
       "  </tbody>\n",
       "</table>\n",
       "</div>"
      ],
      "text/plain": [
       "   in_service  max_vm_pu  min_vm_pu   name type  vn_kv zone\n",
       "0        True       1.06       0.94  bus_1    b  345.0    2\n",
       "1        True       1.06       0.94  bus_2    b  345.0    2\n",
       "2        True       1.06       0.94  bus_3    b  345.0    2\n",
       "3        True       1.06       0.94  bus_4    b  345.0    1\n",
       "4        True       1.06       0.94  bus_5    b  345.0    1"
      ]
     },
     "execution_count": 270,
     "metadata": {},
     "output_type": "execute_result"
    }
   ],
   "source": [
    "net_39.bus.head()"
   ]
  },
  {
   "cell_type": "code",
   "execution_count": 271,
   "metadata": {},
   "outputs": [
    {
     "data": {
      "text/plain": [
       "[<matplotlib.lines.Line2D at 0x1a20385668>]"
      ]
     },
     "execution_count": 271,
     "metadata": {},
     "output_type": "execute_result"
    },
    {
     "data": {
      "image/png": "[encoded data removed]",
      "text/plain": [
       "<matplotlib.figure.Figure at 0x1a20589c18>"
      ]
     },
     "metadata": {},
     "output_type": "display_data"
    }
   ],
   "source": [
    "plt.plot(net_39.bus.max_vm_pu)\n",
    "plt.plot(net_39.bus.min_vm_pu)"
   ]
  },
  {
   "cell_type": "code",
   "execution_count": 299,
   "metadata": {},
   "outputs": [
    {
     "data": {
      "text/plain": [
       "This pandapower network includes the following parameter tables:\n",
       "   - bus (39 elements)\n",
       "   - load (21 elements)\n",
       "   - polynomial_cost (10 elements)\n",
       "   - gen (9 elements)\n",
       "   - line (34 elements)\n",
       "   - trafo (12 elements)\n",
       "   - bus_geodata (39 elements)\n",
       "   - ext_grid (1 element)\n",
       " and the following results tables:\n",
       "   - res_line (34 elements)\n",
       "   - res_trafo (12 elements)\n",
       "   - res_bus (39 elements)\n",
       "   - res_gen (9 elements)\n",
       "   - res_ext_grid (1 element)\n",
       "   - res_load (21 elements)"
      ]
     },
     "execution_count": 299,
     "metadata": {},
     "output_type": "execute_result"
    }
   ],
   "source": [
    "pp.runpp(net_39)\n",
    "net_39"
   ]
  },
  {
   "cell_type": "code",
   "execution_count": 300,
   "metadata": {},
   "outputs": [
    {
     "data": {
      "text/html": [
       "<div>\n",
       "<style scoped>\n",
       "    .dataframe tbody tr th:only-of-type {\n",
       "        vertical-align: middle;\n",
       "    }\n",
       "\n",
       "    .dataframe tbody tr th {\n",
       "        vertical-align: top;\n",
       "    }\n",
       "\n",
       "    .dataframe thead th {\n",
       "        text-align: right;\n",
       "    }\n",
       "</style>\n",
       "<table border=\"1\" class=\"dataframe\">\n",
       "  <thead>\n",
       "    <tr style=\"text-align: right;\">\n",
       "      <th></th>\n",
       "      <th>vm_pu</th>\n",
       "      <th>va_degree</th>\n",
       "      <th>p_kw</th>\n",
       "      <th>q_kvar</th>\n",
       "    </tr>\n",
       "  </thead>\n",
       "  <tbody>\n",
       "    <tr>\n",
       "      <th>0</th>\n",
       "      <td>1.039384</td>\n",
       "      <td>-13.536602</td>\n",
       "      <td>97600.0</td>\n",
       "      <td>44200.0</td>\n",
       "    </tr>\n",
       "    <tr>\n",
       "      <th>1</th>\n",
       "      <td>1.048494</td>\n",
       "      <td>-9.785267</td>\n",
       "      <td>0.0</td>\n",
       "      <td>0.0</td>\n",
       "    </tr>\n",
       "    <tr>\n",
       "      <th>2</th>\n",
       "      <td>1.030708</td>\n",
       "      <td>-12.276384</td>\n",
       "      <td>322000.0</td>\n",
       "      <td>2400.0</td>\n",
       "    </tr>\n",
       "    <tr>\n",
       "      <th>3</th>\n",
       "      <td>1.004460</td>\n",
       "      <td>-12.626734</td>\n",
       "      <td>500000.0</td>\n",
       "      <td>184000.0</td>\n",
       "    </tr>\n",
       "    <tr>\n",
       "      <th>4</th>\n",
       "      <td>1.006006</td>\n",
       "      <td>-11.192339</td>\n",
       "      <td>0.0</td>\n",
       "      <td>0.0</td>\n",
       "    </tr>\n",
       "  </tbody>\n",
       "</table>\n",
       "</div>"
      ],
      "text/plain": [
       "      vm_pu  va_degree      p_kw    q_kvar\n",
       "0  1.039384 -13.536602   97600.0   44200.0\n",
       "1  1.048494  -9.785267       0.0       0.0\n",
       "2  1.030708 -12.276384  322000.0    2400.0\n",
       "3  1.004460 -12.626734  500000.0  184000.0\n",
       "4  1.006006 -11.192339       0.0       0.0"
      ]
     },
     "execution_count": 300,
     "metadata": {},
     "output_type": "execute_result"
    }
   ],
   "source": [
    "net_39.res_bus.head()"
   ]
  },
  {
   "cell_type": "code",
   "execution_count": 301,
   "metadata": {},
   "outputs": [
    {
     "data": {
      "text/html": [
       "<div>\n",
       "<style scoped>\n",
       "    .dataframe tbody tr th:only-of-type {\n",
       "        vertical-align: middle;\n",
       "    }\n",
       "\n",
       "    .dataframe tbody tr th {\n",
       "        vertical-align: top;\n",
       "    }\n",
       "\n",
       "    .dataframe thead th {\n",
       "        text-align: right;\n",
       "    }\n",
       "</style>\n",
       "<table border=\"1\" class=\"dataframe\">\n",
       "  <thead>\n",
       "    <tr style=\"text-align: right;\">\n",
       "      <th></th>\n",
       "      <th>p_from_kw</th>\n",
       "      <th>q_from_kvar</th>\n",
       "      <th>p_to_kw</th>\n",
       "      <th>q_to_kvar</th>\n",
       "      <th>pl_kw</th>\n",
       "      <th>ql_kvar</th>\n",
       "      <th>i_from_ka</th>\n",
       "      <th>i_to_ka</th>\n",
       "      <th>i_ka</th>\n",
       "      <th>loading_percent</th>\n",
       "    </tr>\n",
       "  </thead>\n",
       "  <tbody>\n",
       "    <tr>\n",
       "      <th>0</th>\n",
       "      <td>-173699.968353</td>\n",
       "      <td>-40307.333418</td>\n",
       "      <td>174677.679494</td>\n",
       "      <td>-24357.905613</td>\n",
       "      <td>977.711141</td>\n",
       "      <td>-64665.239032</td>\n",
       "      <td>0.287100</td>\n",
       "      <td>0.281497</td>\n",
       "      <td>0.287100</td>\n",
       "      <td>28.593122</td>\n",
       "    </tr>\n",
       "    <tr>\n",
       "      <th>1</th>\n",
       "      <td>76099.968353</td>\n",
       "      <td>-3892.666582</td>\n",
       "      <td>-76033.949144</td>\n",
       "      <td>-74752.541524</td>\n",
       "      <td>66.019208</td>\n",
       "      <td>-78645.208106</td>\n",
       "      <td>0.122686</td>\n",
       "      <td>0.173239</td>\n",
       "      <td>0.173239</td>\n",
       "      <td>10.352039</td>\n",
       "    </tr>\n",
       "    <tr>\n",
       "      <th>2</th>\n",
       "      <td>319914.587166</td>\n",
       "      <td>88586.563724</td>\n",
       "      <td>-318579.541911</td>\n",
       "      <td>-100878.939507</td>\n",
       "      <td>1335.045255</td>\n",
       "      <td>-12292.375784</td>\n",
       "      <td>0.529823</td>\n",
       "      <td>0.542565</td>\n",
       "      <td>0.542565</td>\n",
       "      <td>64.842795</td>\n",
       "    </tr>\n",
       "    <tr>\n",
       "      <th>3</th>\n",
       "      <td>-244592.266659</td>\n",
       "      <td>82973.576320</td>\n",
       "      <td>248928.896793</td>\n",
       "      <td>-93837.355150</td>\n",
       "      <td>4336.630133</td>\n",
       "      <td>-10863.778830</td>\n",
       "      <td>0.412240</td>\n",
       "      <td>0.420913</td>\n",
       "      <td>0.420913</td>\n",
       "      <td>50.303984</td>\n",
       "    </tr>\n",
       "    <tr>\n",
       "      <th>4</th>\n",
       "      <td>37339.617644</td>\n",
       "      <td>113064.517040</td>\n",
       "      <td>-37131.889918</td>\n",
       "      <td>-132590.249252</td>\n",
       "      <td>207.727726</td>\n",
       "      <td>-19525.732212</td>\n",
       "      <td>0.193326</td>\n",
       "      <td>0.229401</td>\n",
       "      <td>0.229401</td>\n",
       "      <td>27.416027</td>\n",
       "    </tr>\n",
       "  </tbody>\n",
       "</table>\n",
       "</div>"
      ],
      "text/plain": [
       "       p_from_kw    q_from_kvar        p_to_kw      q_to_kvar        pl_kw  \\\n",
       "0 -173699.968353  -40307.333418  174677.679494  -24357.905613   977.711141   \n",
       "1   76099.968353   -3892.666582  -76033.949144  -74752.541524    66.019208   \n",
       "2  319914.587166   88586.563724 -318579.541911 -100878.939507  1335.045255   \n",
       "3 -244592.266659   82973.576320  248928.896793  -93837.355150  4336.630133   \n",
       "4   37339.617644  113064.517040  -37131.889918 -132590.249252   207.727726   \n",
       "\n",
       "        ql_kvar  i_from_ka   i_to_ka      i_ka  loading_percent  \n",
       "0 -64665.239032   0.287100  0.281497  0.287100        28.593122  \n",
       "1 -78645.208106   0.122686  0.173239  0.173239        10.352039  \n",
       "2 -12292.375784   0.529823  0.542565  0.542565        64.842795  \n",
       "3 -10863.778830   0.412240  0.420913  0.420913        50.303984  \n",
       "4 -19525.732212   0.193326  0.229401  0.229401        27.416027  "
      ]
     },
     "execution_count": 301,
     "metadata": {},
     "output_type": "execute_result"
    }
   ],
   "source": [
    "net_39.res_line.head()"
   ]
  },
  {
   "cell_type": "markdown",
   "metadata": {},
   "source": [
    "## Changing loads"
   ]
  },
  {
   "cell_type": "code",
   "execution_count": 509,
   "metadata": {},
   "outputs": [
    {
     "name": "stdout",
     "output_type": "stream",
     "text": [
      "PMU location:  [22, 25, 28]\n"
     ]
    }
   ],
   "source": [
    "samples_per_second = 60\n",
    "loads_1 = np.random.normal(loc=400000, scale=100000, size=samples_per_second)\n",
    "loads_2 = np.random.normal(loc=100000, scale=400000, size=samples_per_second)\n",
    "\n",
    "pmu_0_va_degree = []\n",
    "pmu_1_va_degree = []\n",
    "pmu_2_va_degree = []\n",
    "\n",
    "print('PMU location: ', pmu_location)\n",
    "\n",
    "# For a PMU with 60 sps\n",
    "for t, l1, l2 in zip(range(samples_per_second), loads_1, loads_2):\n",
    "    net_39.load.p_kw[0] = l1\n",
    "    net_39.load.p_kw[1] = l2\n",
    "    pp.runpp(net_39)\n",
    "    pmu_0_va_degree.append(net_39.res_bus.loc[pmu_location[0]].va_degree)\n",
    "    pmu_1_va_degree.append(net_39.res_bus.loc[pmu_location[1]].va_degree)\n",
    "    pmu_2_va_degree.append(net_39.res_bus.loc[pmu_location[2]].va_degree)"
   ]
  },
  {
   "cell_type": "code",
   "execution_count": 510,
   "metadata": {},
   "outputs": [
    {
     "data": {
      "image/png": "[encoded data removed]",
      "text/plain": [
       "<matplotlib.figure.Figure at 0x1a221a4a20>"
      ]
     },
     "metadata": {},
     "output_type": "display_data"
    }
   ],
   "source": [
    "plt.plot(pmu_0_va_degree)\n",
    "plt.plot(pmu_1_va_degree)\n",
    "plt.plot(pmu_2_va_degree)\n",
    "plt.tight_layout()"
   ]
  },
  {
   "cell_type": "code",
   "execution_count": 511,
   "metadata": {},
   "outputs": [
    {
     "data": {
      "text/plain": [
       "name             line_3\n",
       "std_type           None\n",
       "from_bus              1\n",
       "to_bus                2\n",
       "length_km             1\n",
       "r_ohm_per_km    1.54732\n",
       "x_ohm_per_km    17.9728\n",
       "c_nf_per_km     573.194\n",
       "max_i_ka        0.83674\n",
       "df                    1\n",
       "parallel              1\n",
       "type                 ol\n",
       "in_service        False\n",
       "Name: 2, dtype: object"
      ]
     },
     "execution_count": 511,
     "metadata": {},
     "output_type": "execute_result"
    }
   ],
   "source": [
    "# Setting a line to in service or not\n",
    "line_number = 3\n",
    "net_39.line.in_service.loc[line_number-1] = False\n",
    "net_39.line.loc[line_number-1]"
   ]
  },
  {
   "cell_type": "code",
   "execution_count": 512,
   "metadata": {},
   "outputs": [],
   "source": [
    "# For a PMU with 60 sps\n",
    "for t, l1, l2 in zip(range(samples_per_second), loads_1, loads_2):\n",
    "    net_39.load.p_kw[0] = l1\n",
    "    net_39.load.p_kw[1] = l2\n",
    "    pp.runpp(net_39)\n",
    "    pmu_0_va_degree.append(net_39.res_bus.loc[pmu_location[0]].va_degree)\n",
    "    pmu_1_va_degree.append(net_39.res_bus.loc[pmu_location[1]].va_degree)\n",
    "    pmu_2_va_degree.append(net_39.res_bus.loc[pmu_location[2]].va_degree)"
   ]
  },
  {
   "cell_type": "code",
   "execution_count": 513,
   "metadata": {},
   "outputs": [
    {
     "data": {
      "text/plain": [
       "p_from_kw          0.0\n",
       "q_from_kvar        0.0\n",
       "p_to_kw            0.0\n",
       "q_to_kvar          0.0\n",
       "pl_kw              0.0\n",
       "ql_kvar            0.0\n",
       "i_from_ka          0.0\n",
       "i_to_ka            0.0\n",
       "i_ka               0.0\n",
       "loading_percent    0.0\n",
       "Name: 2, dtype: float64"
      ]
     },
     "execution_count": 513,
     "metadata": {},
     "output_type": "execute_result"
    }
   ],
   "source": [
    "net_39.res_line.loc[2]"
   ]
  },
  {
   "cell_type": "code",
   "execution_count": 514,
   "metadata": {},
   "outputs": [
    {
     "data": {
      "image/png": "[encoded data removed]",
      "text/plain": [
       "<matplotlib.figure.Figure at 0x1a2305b2e8>"
      ]
     },
     "metadata": {},
     "output_type": "display_data"
    }
   ],
   "source": [
    "plt.figure(figsize=[10,5])\n",
    "plt.plot(pmu_0_va_degree)\n",
    "plt.plot(pmu_1_va_degree)\n",
    "plt.plot(pmu_2_va_degree)\n",
    "plt.vlines(x=60,ymin=-60, ymax=40,colors='r')\n",
    "plt.vlines(x=120,ymin=-60, ymax=40,colors='r')\n",
    "plt.legend(['PMU0', 'PMU1', 'PMU2'])\n",
    "plt.tight_layout()"
   ]
  },
  {
   "cell_type": "code",
   "execution_count": null,
   "metadata": {},
   "outputs": [],
   "source": []
  },
  {
   "cell_type": "markdown",
   "metadata": {},
   "source": [
    "## Obtain PMU data"
   ]
  },
  {
   "cell_type": "markdown",
   "metadata": {},
   "source": [
    "Three PMUs: Bus 23, 26, 29 (for example) <br>\n",
    "Quantity: Voltage angle"
   ]
  },
  {
   "cell_type": "code",
   "execution_count": 237,
   "metadata": {},
   "outputs": [],
   "source": [
    "pmu_location = [i-1 for i in [23, 26, 29]] # To conform with data format in the case, 0-start"
   ]
  },
  {
   "cell_type": "code",
   "execution_count": 515,
   "metadata": {},
   "outputs": [],
   "source": [
    "fft_pmu0 = np.fft.fft(pmu_0_va_degree)\n",
    "fft_pmu1 = np.fft.fft(np.asarray(pmu_1_va_degree)-np.asarray(pmu_0_va_degree))\n",
    "fft_pmu2 = np.fft.fft(np.asarray(pmu_2_va_degree)-np.asarray(pmu_0_va_degree))\n",
    "\n",
    "\n",
    "imag_pmu0 = fft_pmu0.imag.tolist()\n",
    "imag_pmu1 = fft_pmu1.imag.tolist()\n",
    "imag_pmu2 = fft_pmu2.imag.tolist()"
   ]
  },
  {
   "cell_type": "code",
   "execution_count": 516,
   "metadata": {},
   "outputs": [
    {
     "data": {
      "image/png": "[encoded data removed]",
      "text/plain": [
       "<matplotlib.figure.Figure at 0x1a22188cc0>"
      ]
     },
     "metadata": {},
     "output_type": "display_data"
    }
   ],
   "source": [
    "plt.plot(imag_pmu0)\n",
    "plt.plot(imag_pmu1)\n",
    "plt.plot(imag_pmu2)\n",
    "plt.tight_layout()"
   ]
  },
  {
   "cell_type": "code",
   "execution_count": null,
   "metadata": {},
   "outputs": [],
   "source": []
  }
 ],
 "metadata": {
  "kernelspec": {
   "display_name": "Python 3",
   "language": "python",
   "name": "python3"
  },
  "language_info": {
   "codemirror_mode": {
    "name": "ipython",
    "version": 3
   },
   "file_extension": ".py",
   "mimetype": "text/x-python",
   "name": "python",
   "nbconvert_exporter": "python",
   "pygments_lexer": "ipython3",
   "version": "3.6.4"
  }
 },
 "nbformat": 4,
 "nbformat_minor": 2
}
